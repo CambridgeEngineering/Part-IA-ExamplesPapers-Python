{
 "cells": [
  {
   "cell_type": "markdown",
   "metadata": {},
   "source": [
    "# IA Paper 1 - Mechanics - Examples paper 3 "
   ]
  },
  {
   "cell_type": "markdown",
   "metadata": {},
   "source": [
    "## Question 4\n",
    "\n",
    "A tension $F = 10$ kN is applied via a cable attached to point A on a rigid arm OA with initial geometry as shown in Fig. 4. Find the rate at which $F$ does work if the arm OA starts to rotate about the $y$-axis with an angular velocity $\\omega$ of $0.3$ rad s$^{-1}$. (See figure in examples paper sheet.)\n",
    "\n",
    "You may wish to try solving the question using Python. To do so, you'll need to use the built in NumPy function for scalar and vector products. Using `import numpy as np`, you will need: \n",
    "\n",
    "- `np.dot(a,b)` for the dot product $\\boldsymbol{a} \\cdot \\boldsymbol{b}$   \n",
    "- `np.cross(a,b)`  for the cross product $\\boldsymbol{a} \\times \\boldsymbol{b}$ \n",
    "\n",
    "Note that a three dimensional vector $\\boldsymbol{A} = x\\boldsymbol{i} + y\\boldsymbol{j} + z\\boldsymbol{k}$ may be defined in NumPy as a column vector\n",
    "\n",
    "    A = np.array([x, y, z])\n",
    "\n",
    "and can be normalised (turned into a unit vector) using \n",
    "\n",
    "    a = A/np.linalg.norm(A)"
   ]
  },
  {
   "cell_type": "markdown",
   "metadata": {},
   "source": [
    "### Solution"
   ]
  },
  {
   "cell_type": "markdown",
   "metadata": {},
   "source": [
    "We will need NumPy, so we import the module:"
   ]
  },
  {
   "cell_type": "code",
   "execution_count": 1,
   "metadata": {
    "collapsed": true
   },
   "outputs": [],
   "source": [
    "# Import modules\n",
    "import numpy as np"
   ]
  },
  {
   "cell_type": "markdown",
   "metadata": {},
   "source": [
    "Define all the variables that will be used for the calculations. Here, we will need the position vectors AB and $r$, the force $F$, and the angular velocity $\\omega$ (here treated as a scalar). For use in later calculations we will also define the unit vector in the y direction $\\boldsymbol{j}$. We will print out some of the variables as we go along. "
   ]
  },
  {
   "cell_type": "code",
   "execution_count": 2,
   "metadata": {
    "collapsed": false
   },
   "outputs": [
    {
     "name": "stdout",
     "output_type": "stream",
     "text": [
      "r = [0 0 5] m\n",
      "f = [ 0.4243 -0.5657  0.7071]\n",
      "F = [ 4242.6407 -5656.8542  7071.0678] N\n"
     ]
    }
   ],
   "source": [
    "# To make it look clearer we can make the numpy arrays display\n",
    "# Only a set number of digits after the decimal point\n",
    "np.set_printoptions(precision=4)\n",
    "\n",
    "# Position vector AB = 3i - 4j + 5k\n",
    "AB = np.array([3, -4, 5])\n",
    "\n",
    "# Position vector OA = r = 5k\n",
    "r = np.array([0, 0, 5])\n",
    "print(\"r = {} m\".format(r))\n",
    "\n",
    "# Angular velocity is 0.3 rad/s\n",
    "omega = 0.3\n",
    "\n",
    "# Unit vector in direction AB\n",
    "f = AB/np.linalg.norm(AB)\n",
    "print(\"f = {}\".format(f))\n",
    "\n",
    "# Force F in direction AB\n",
    "F = 10000*f\n",
    "print(\"F = {} N\".format(F))\n",
    "\n",
    "# y-axis direction\n",
    "j = np.array([0, 1, 0])"
   ]
  },
  {
   "cell_type": "markdown",
   "metadata": {},
   "source": [
    "Now calculate the power. This may be done in a few steps or as a one vector equation."
   ]
  },
  {
   "cell_type": "markdown",
   "metadata": {},
   "source": [
    "#### Method 1\n",
    "\n",
    "Firstly we calculate the moment of F around O. To do so we need to calculate the cross product of the arm $r$ and the force $F$:  $\\boldsymbol{M}_{O} = \\boldsymbol{r} \\times \\boldsymbol{F}$.  Next we obtain the scalar moment about the y-axis by dotting with the $\\boldsymbol{j}$ unit vector: $M_{y} = \\boldsymbol{M}_{O} \\cdot \\boldsymbol{j}$. Finally, to obtain power we multiply $M_{y}$ by the angular velocity $\\omega$."
   ]
  },
  {
   "cell_type": "code",
   "execution_count": 3,
   "metadata": {
    "collapsed": false
   },
   "outputs": [
    {
     "name": "stdout",
     "output_type": "stream",
     "text": [
      "Mo = [ 28284.2712  21213.2034     -0.    ] Nm\n",
      "My = 21213.20 Nm\n",
      "Power1 = 6363.96 W\n"
     ]
    }
   ],
   "source": [
    "# Moment of F around O\n",
    "Mo = np.cross(r, F)\n",
    "print(\"Mo = {} Nm\".format(Mo))\n",
    "\n",
    "# Moment about y-axis\n",
    "My = np.dot(Mo, j)\n",
    "print(\"My = {:.2f} Nm\".format(My))\n",
    "\n",
    "# Calculate Power by scalar calculation\n",
    "Power1 = My*omega\n",
    "\n",
    "# Print out Power obtained by the first method\n",
    "# {:.2f} displays two digits after the decimal point\n",
    "print(\"Power1 = {:.2f} W\".format(Power1, 4))"
   ]
  },
  {
   "cell_type": "markdown",
   "metadata": {},
   "source": [
    "#### Method 2\n",
    "\n",
    "It can be noted that power $P = \\boldsymbol{F} \\cdot \\boldsymbol{v}$ where $\\boldsymbol{v} = \\boldsymbol{\\omega} \\times \\boldsymbol{r}$ and $\\boldsymbol{\\omega} = \\omega \\boldsymbol{j}$, givng the equation for power $P = \\boldsymbol{F} \\cdot (\\boldsymbol{\\omega} \\times \\boldsymbol{r})$."
   ]
  },
  {
   "cell_type": "code",
   "execution_count": 4,
   "metadata": {
    "collapsed": false
   },
   "outputs": [
    {
     "name": "stdout",
     "output_type": "stream",
     "text": [
      "Power2 = 6363.96 W\n"
     ]
    }
   ],
   "source": [
    "# Vector Calculation\n",
    "Power2 = np.dot(F, np.cross(omega*j, r))\n",
    "\n",
    "# Print out Power obtained by the second method\n",
    "print(\"Power2 = {:.2f} W\".format(Power2))"
   ]
  }
 ],
 "metadata": {
  "anaconda-cloud": {},
  "kernelspec": {
   "display_name": "Python 3",
   "language": "python",
   "name": "python3"
  },
  "language_info": {
   "codemirror_mode": {
    "name": "ipython",
    "version": 3
   },
   "file_extension": ".py",
   "mimetype": "text/x-python",
   "name": "python",
   "nbconvert_exporter": "python",
   "pygments_lexer": "ipython3",
   "version": "3.5.2"
  }
 },
 "nbformat": 4,
 "nbformat_minor": 0
}
