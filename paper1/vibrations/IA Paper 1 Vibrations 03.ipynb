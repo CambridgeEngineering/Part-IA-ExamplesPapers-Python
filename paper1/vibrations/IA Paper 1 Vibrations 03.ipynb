{
 "cells": [
  {
   "cell_type": "markdown",
   "metadata": {},
   "source": [
    "# IA Paper 1 - Mechanical Vibrations - Examples paper 3"
   ]
  },
  {
   "cell_type": "markdown",
   "metadata": {},
   "source": [
    "## Question 3"
   ]
  },
  {
   "cell_type": "markdown",
   "metadata": {},
   "source": [
    "Two rigid discs with moments of inertia J and 2J are mounted on three light elastic shafts of torsional stiffness k, k , and 2k as shown in Fig. 3. The angles of rotations of the discs from their equilibrium positions are $\\theta_1$ and $\\theta_2$ respectively. Show that the equation of free torsional vibration of the system can be written in the form:  \n",
    "  \n",
    "$$ \n",
    "M \\underline{\\ddot \\theta} + K \\underline{\\theta} = 0  \n",
    "$$\n",
    "\n",
    "with \n",
    "\n",
    "$$\n",
    "M = \\begin{bmatrix} J && 0 \\\\ 0 && 2J \\end{bmatrix}, \\quad \n",
    "K = \\begin{bmatrix} 2k && -k \\\\ -k && 3k \\end{bmatrix}\n",
    "\\quad \\text{and} \\quad\n",
    "\\underline{\\theta} = \\begin{bmatrix} \\theta_1 \\\\ \\theta_2 \\end{bmatrix} .\n",
    "$$\n",
    "\n",
    "Using the method outlined in Q2 above, find the natural frequencies and normal modes. Sketch the mode shapes.  \n",
    "\n",
    "Try in the following Python program to check your answers:"
   ]
  },
  {
   "cell_type": "markdown",
   "metadata": {},
   "source": [
    "### Solution"
   ]
  },
  {
   "cell_type": "markdown",
   "metadata": {},
   "source": [
    "We import Numpy and create the matrices $M$ and $K$:"
   ]
  },
  {
   "cell_type": "code",
   "execution_count": 1,
   "metadata": {
    "collapsed": false
   },
   "outputs": [],
   "source": [
    "import numpy as np\n",
    "\n",
    "# Set values for J and k\n",
    "J, k = 1.0, 1.0\n",
    "\n",
    "# Create the matrices K and M\n",
    "K = np.array([[2*k, -k], [-k, 3*k]])\n",
    "M = np.array([[J, 0], [0, 2*J]])"
   ]
  },
  {
   "cell_type": "markdown",
   "metadata": {},
   "source": [
    "Given that, from Q2, $(K- \\omega_j^2 M) \\underline{\\theta}_j = 0$, we are looking for the eigenvalues of $M^{-1} K$. We first compute the matrix $M^{-1} K$:"
   ]
  },
  {
   "cell_type": "code",
   "execution_count": 2,
   "metadata": {
    "collapsed": false
   },
   "outputs": [],
   "source": [
    "M_invK = np.dot(np.linalg.inv(M), K)"
   ]
  },
  {
   "cell_type": "markdown",
   "metadata": {},
   "source": [
    "Next we compute the eigenvalues and eigenvectors of $M^{-1} K$:"
   ]
  },
  {
   "cell_type": "code",
   "execution_count": 3,
   "metadata": {
    "collapsed": false
   },
   "outputs": [],
   "source": [
    "evals, evecs = np.linalg.eig(M_invK)"
   ]
  },
  {
   "cell_type": "markdown",
   "metadata": {
    "collapsed": false
   },
   "source": [
    "The eigenvalues are stored in `evals`, and the eigenvectors are stored as columns of `evecs`. \n",
    "The eigenvalues are not necessarily ordered. By convention, the eigenvectors have been normalised."
   ]
  },
  {
   "cell_type": "code",
   "execution_count": 4,
   "metadata": {
    "collapsed": false
   },
   "outputs": [],
   "source": [
    "# Sort eigenvalues and eigenvectors from smallest to largest\n",
    "sort_perm = evals.argsort()\n",
    "evals.sort()\n",
    "evecs = evecs[:, sort_perm]"
   ]
  },
  {
   "cell_type": "markdown",
   "metadata": {},
   "source": [
    "We can print the natural frequencies and mode shapes (we first sort the eigenvalues and eigenvectors to print the smallest first, which is the convention): "
   ]
  },
  {
   "cell_type": "code",
   "execution_count": 5,
   "metadata": {
    "collapsed": false
   },
   "outputs": [
    {
     "name": "stdout",
     "output_type": "stream",
     "text": [
      "Mode 0 has natural frequency 1.0 and mode shape [ 0.70710678  0.70710678]\n",
      "Mode 1 has natural frequency 1.5811388300841898 and mode shape [ 0.89442719 -0.4472136 ]\n"
     ]
    }
   ],
   "source": [
    "# Print natural frequencies and mode shapes\n",
    "for n, (lmbda, u) in enumerate(zip(evals, evecs.T)):\n",
    "    print('Mode {} has natural frequency {} and mode shape {}'.format(n, np.sqrt(lmbda), u))"
   ]
  },
  {
   "cell_type": "markdown",
   "metadata": {},
   "source": [
    "## Question 5"
   ]
  },
  {
   "cell_type": "markdown",
   "metadata": {},
   "source": [
    "Two equal masses $m$ are attached to a third mass $M$ by two springs, each of stiffness $k$, as shown in Fig. 5. Derive the equations of motion for the system in terms of the three coordinates $y_1$, $y_2$ and $y_3$ as shown.  \n",
    "\n",
    "- Calculate the three natural frequencies and corresponding normal modes, and sketch the mode shapes (Hint: two of the \n",
    "  natural frequencies and mode shapes can be determined easily by inspection.)\n",
    "- What is the significance of a zero natural frequency?\n",
    "- Modify the program from question 3 to check your answers. Try different ratios $M/m$."
   ]
  },
  {
   "cell_type": "markdown",
   "metadata": {},
   "source": [
    "### Solution:"
   ]
  },
  {
   "cell_type": "markdown",
   "metadata": {},
   "source": [
    "We import numpy and set values for $M$, $m$ and $k$."
   ]
  },
  {
   "cell_type": "code",
   "execution_count": 6,
   "metadata": {
    "collapsed": true
   },
   "outputs": [],
   "source": [
    "import numpy as np\n",
    "\n",
    "# Set values for M, m and k\n",
    "M, m, k = 5.0, 1.0, 1.0"
   ]
  },
  {
   "cell_type": "markdown",
   "metadata": {},
   "source": [
    "We create the matrices $M$ and $K$, as we did in Q3, but this time as there are three degrees of freedom, we need a $3 \\times 3$ matrix."
   ]
  },
  {
   "cell_type": "code",
   "execution_count": 7,
   "metadata": {
    "collapsed": false
   },
   "outputs": [],
   "source": [
    "# Create the matrices K and M\n",
    "K = np.array([[k, -k, 0], [-k, 2*k, -k], [0, -k, k]])\n",
    "M = np.array([[m, 0, 0], [0, M, 0], [0, 0, m]])"
   ]
  },
  {
   "cell_type": "markdown",
   "metadata": {},
   "source": [
    "We proceed in the same way as for Question 3 to compute the natural frequencies and modes:"
   ]
  },
  {
   "cell_type": "code",
   "execution_count": 8,
   "metadata": {
    "collapsed": false
   },
   "outputs": [
    {
     "name": "stdout",
     "output_type": "stream",
     "text": [
      "Mode 0 has natural frequency 1.0536712127723509e-08 and mode shape [ 0.57735027  0.57735027  0.57735027]\n",
      "Mode 1 has natural frequency 1.0000000000000002 and mode shape [ -7.07106781e-01   8.93625803e-17   7.07106781e-01]\n",
      "Mode 2 has natural frequency 1.1832159566199232 and mode shape [ 0.68041382 -0.27216553  0.68041382]\n"
     ]
    }
   ],
   "source": [
    "# Compute M^-1 K\n",
    "M_invK = np.dot(np.linalg.inv(M), K)\n",
    "\n",
    "# Compute eigenvalues and eigenvectors\n",
    "evals, evecs = np.linalg.eig(M_invK)\n",
    "\n",
    "# Sort eigenvalues ansd eigenvectors from smallest to largest\n",
    "sort_perm = evals.argsort()\n",
    "evals.sort()\n",
    "evecs = evecs[:, sort_perm]\n",
    "\n",
    "# Print natural frequencies and mode shapes\n",
    "for n, (lmbda, u) in enumerate(zip(evals, evecs.T)):\n",
    "    print('Mode {} has natural frequency {} and mode shape {}'.format(n, np.sqrt(lmbda), u))"
   ]
  }
 ],
 "metadata": {
  "kernelspec": {
   "display_name": "Python 3",
   "language": "python",
   "name": "python3"
  },
  "language_info": {
   "codemirror_mode": {
    "name": "ipython",
    "version": 3
   },
   "file_extension": ".py",
   "mimetype": "text/x-python",
   "name": "python",
   "nbconvert_exporter": "python",
   "pygments_lexer": "ipython3",
   "version": "3.5.2"
  }
 },
 "nbformat": 4,
 "nbformat_minor": 0
}
