{
 "cells": [
  {
   "cell_type": "markdown",
   "metadata": {},
   "source": [
    "# IA Paper 4 - Mathematics - Examples paper 9"
   ]
  },
  {
   "cell_type": "markdown",
   "metadata": {},
   "source": [
    "## Question 10\n",
    "\n",
    "A coin is tossed ten times.\n",
    "\n",
    "(i) What is the probability of it coming down heads 5 times and tails 5 times?\n",
    "\n",
    "(ii) Which is the more likely: exactly 7 heads or more than 7 heads?\n",
    "\n",
    "Verify your answers by tossing a coin ten times and counting the number of heads. Repeat the experiment 100000 times and record the frequencies of the various numbers of heads. If you do not have time for 100000 repetitions, (IA engineers generally do), you could alternatively write a Python program to simulate the experiments."
   ]
  },
  {
   "cell_type": "markdown",
   "metadata": {},
   "source": [
    "## Solution"
   ]
  },
  {
   "cell_type": "markdown",
   "metadata": {},
   "source": [
    "Load the required packages, `numpy` and `matplotlib`."
   ]
  },
  {
   "cell_type": "code",
   "execution_count": 1,
   "metadata": {},
   "outputs": [],
   "source": [
    "import numpy as np\n",
    "import matplotlib.pyplot as plt\n",
    "%matplotlib inline"
   ]
  },
  {
   "cell_type": "markdown",
   "metadata": {},
   "source": [
    "The code below generates the results. Comments are provided where appropriate to assist understanding. "
   ]
  },
  {
   "cell_type": "code",
   "execution_count": 2,
   "metadata": {},
   "outputs": [
    {
     "data": {
      "image/png": "[encoded data removed]",
      "text/plain": [
       "<Figure size 432x288 with 1 Axes>"
      ]
     },
     "metadata": {
      "needs_background": "light"
     },
     "output_type": "display_data"
    }
   ],
   "source": [
    "# Edit the line below to change the number of experiments, and observe the effect on the results\n",
    "num_experiments = 100000\n",
    "\n",
    "# Initialize an empty list to store the results\n",
    "results = []\n",
    "\n",
    "# Main loop over experiments\n",
    "for i in range(num_experiments):\n",
    "    # Generate ten random numbers in the range 0 to 1, count how\n",
    "    # many of them exceed 0.5 - this is equivalent to tossing a head\n",
    "    num_heads = 0\n",
    "    for j in range(10):\n",
    "        if np.random.rand() > 0.5:\n",
    "            num_heads += 1\n",
    "\n",
    "    # Store how many heads there were in this experiment\n",
    "    results.append(num_heads)\n",
    "\n",
    "# Plot a historgram of the number of heads\n",
    "n, bins, patches = plt.hist(results, 10, facecolor='green', alpha=0.7)\n",
    "plt.xlabel('number of heads')\n",
    "plt.ylabel('frequency');"
   ]
  },
  {
   "cell_type": "markdown",
   "metadata": {},
   "source": [
    "We can use the numerical results to determine the answer for parts (i) and (ii). \n",
    "\n",
    "The probability of the coins coming down on head exactly 5 times is:\n",
    "\n",
    "$$\n",
    "P(5) = \\mathcal{C}_5^{10} \\left( \\frac{1}{2} \\right)^5 \\left( \\frac{1}{2} \\right)^5 = 0.246\n",
    "$$\n",
    "\n",
    "The probability of getting 7 heads is:\n",
    "\n",
    "$$\n",
    "P(7) = \\mathcal{C}_7^{10} \\left( \\frac{1}{2} \\right)^7 \\left( \\frac{1}{2} \\right)^3 = 0.117\n",
    "$$\n",
    "\n",
    "and getting more than 7 heads:\n",
    "\n",
    "$$\n",
    "P(8, 9, 10) = \\mathcal{C}_8^{10} \\left( \\frac{1}{2} \\right)^8 \\left( \\frac{1}{2} \\right)^2\n",
    "          + \\mathcal{C}_9^{10} \\left( \\frac{1}{2} \\right)^9 \\left( \\frac{1}{2} \\right)^1 \n",
    "          + \\mathcal{C}_{10}^{10} \\left( \\frac{1}{2} \\right)^{10} \\left( \\frac{1}{2} \\right)^0\n",
    "            = 0.055\n",
    "$$"
   ]
  },
  {
   "cell_type": "code",
   "execution_count": 3,
   "metadata": {},
   "outputs": [
    {
     "name": "stdout",
     "output_type": "stream",
     "text": [
      "Proportion with five heads: 0.24825\n",
      "Proportion with seven heads: 0.11778\n",
      "Proportion with more than seven heads: 0.05381\n"
     ]
    }
   ],
   "source": [
    "import operator    \n",
    "def get_proportion(n, op, results):\n",
    "    return sum(op(i, n) for i in results)/len(results)     \n",
    "    \n",
    "print('Proportion with five heads: {}'.format(get_proportion(5, operator.eq, results)))\n",
    "print('Proportion with seven heads: {}'.format(get_proportion(7, operator.eq, results)))\n",
    "print('Proportion with more than seven heads: {}'.format(get_proportion(7, operator.gt, results)))"
   ]
  }
 ],
 "metadata": {
  "kernelspec": {
   "display_name": "Python 3",
   "language": "python",
   "name": "python3"
  },
  "language_info": {
   "codemirror_mode": {
    "name": "ipython",
    "version": 3
   },
   "file_extension": ".py",
   "mimetype": "text/x-python",
   "name": "python",
   "nbconvert_exporter": "python",
   "pygments_lexer": "ipython3",
   "version": "3.7.5"
  }
 },
 "nbformat": 4,
 "nbformat_minor": 1
}
