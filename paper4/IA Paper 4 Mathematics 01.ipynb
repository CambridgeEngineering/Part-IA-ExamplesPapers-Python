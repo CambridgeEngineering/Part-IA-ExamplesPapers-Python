{
 "cells": [
  {
   "cell_type": "markdown",
   "metadata": {},
   "source": [
    "# IA Paper 4 - Mathematics - Examples paper 1"
   ]
  },
  {
   "cell_type": "markdown",
   "metadata": {},
   "source": [
    "## Question 5: Plotting vectors in 3D\n",
    "\n",
    "Find a vector normal to both the lines    \n",
    "\n",
    "\\begin{align} \n",
    "\\textbf{r}_1 &= (1,2,3) + \\lambda (4,5,6)\n",
    "\\\\ \n",
    "\\textbf{r}_2 &= (2,3,2) + \\mu (5,6,7)\n",
    "\\end{align} \n",
    "\n",
    "(i) Hence find the shortest distance between the two lines. Check that your answer seems reasonable by plotting the lines with Matplotlib.  \n",
    "\n",
    "(ii) Calculate the shortest distance between the two lines with Python and find the points where the two lines are closest together.\n",
    "\n",
    "__Hint:__ You will need to import and use a module from `mpl_toolkits`, e.g. \n",
    "\n",
    "    from mpl_toolkits.mplot3d import Axes3D"
   ]
  },
  {
   "cell_type": "markdown",
   "metadata": {},
   "source": [
    "### Solution"
   ]
  },
  {
   "cell_type": "markdown",
   "metadata": {},
   "source": [
    "(i) Import all relevant modules. Here, we will need `NumPy`, `PyPlot` from `matplotlib`, and `Axes3D` from `mpl_toolkits`"
   ]
  },
  {
   "cell_type": "code",
   "execution_count": 1,
   "metadata": {},
   "outputs": [],
   "source": [
    "# Import modules\n",
    "import numpy as np\n",
    "import matplotlib.pyplot as plt\n",
    "from mpl_toolkits.mplot3d import Axes3D\n",
    "\n",
    "# Special command for plotting inside a Jupyter notebook\n",
    "%matplotlib inline"
   ]
  },
  {
   "cell_type": "markdown",
   "metadata": {},
   "source": [
    "We now compute two points one each line to be ready to plot the lines. It will be convenient to store the points as  two-dimensional array, with each colum holding the coordinates of a point. \n",
    "\n",
    "Let the shortest distance between two lines is the length $|\\vec{\\boldsymbol{P} \\boldsymbol{Q}}|$ of their common normal, where $\\boldsymbol{P}$ and $\\boldsymbol{Q}$ are points on each corresponding line that are closest to each other.\n",
    "\n",
    "If the lines are:\n",
    "\n",
    "$$\n",
    "\\begin{aligned}\n",
    "    \\boldsymbol{r}_{1} &= \\boldsymbol{M} + \\lambda \\boldsymbol{t} \\\\\n",
    "    \\boldsymbol{r}_{2} &= \\boldsymbol{N} + \\mu \\boldsymbol{s}\n",
    "\\end{aligned}\n",
    "$$\n",
    "\n",
    "where $\\boldsymbol{M}$ and $\\boldsymbol{N}$ are arbitrary points on the lines, the vector $\\vec{\\boldsymbol{P} \\boldsymbol{Q}}$ is in the direction:\n",
    "\n",
    "$$\n",
    "\\begin{aligned}\n",
    "    \\boldsymbol{s} \\times \\boldsymbol{t} &= \\boldsymbol{n} \\\\\n",
    "    \\boldsymbol{\\hat{n}} &= \\dfrac{\\boldsymbol{s} \\times \\boldsymbol{t}  }{| \\boldsymbol{s} \\times \\boldsymbol{t} |}\n",
    "\\end{aligned}\n",
    "$$"
   ]
  },
  {
   "cell_type": "markdown",
   "metadata": {},
   "source": [
    "To plot the lines in Python, we need to generate two points that lie on one line. We can simply achieve this by creating first a 3-element array `M` to store the coordinates of $\\boldsymbol{M}$. "
   ]
  },
  {
   "cell_type": "code",
   "execution_count": 2,
   "metadata": {},
   "outputs": [],
   "source": [
    "# Definition of the lines\n",
    "# First line\n",
    "M = np.array([1, 2, 3])  # Point on line\n",
    "t = np.array([4, 5, 6])  # Direction"
   ]
  },
  {
   "cell_type": "markdown",
   "metadata": {},
   "source": [
    "Then, we can store the two points on the first line $\\boldsymbol{r}_1$ in a $3 \\times 2$ matrix - the first column is the point $\\boldsymbol{M} + \\lambda {t}$ and the second column is $\\boldsymbol{M} - \\lambda {t}$. By creating our `numpy` array `lam`, we can achieve this by:"
   ]
  },
  {
   "cell_type": "code",
   "execution_count": 3,
   "metadata": {},
   "outputs": [],
   "source": [
    "# Create 3x2 matrix where each column is a point on the first line\n",
    "lam = np.array([-2, 2])\n",
    "r1 = np.array([M, M]).T + np.array([t, t]).T*lam"
   ]
  },
  {
   "cell_type": "markdown",
   "metadata": {},
   "source": [
    "Similar for the second line. "
   ]
  },
  {
   "cell_type": "code",
   "execution_count": 4,
   "metadata": {},
   "outputs": [],
   "source": [
    "# Second line\n",
    "N = np.array([2, 3, 2])  # Point on line\n",
    "s = np.array([5, 6, 7])  # Direction\n",
    "\n",
    "# Create 3x2 matrix where each column is a point on the second line\n",
    "mu = np.array([-2, 2])\n",
    "r2 = np.array([N, N]).T + np.array([s, s]).T*lam"
   ]
  },
  {
   "cell_type": "markdown",
   "metadata": {},
   "source": [
    "The vector $\\boldsymbol{\\hat{n}}$ is perpendicular to both lines, hence we can find it using the `np.cross` command, which calculates the cross product of two vectors. The normalised vector can be obtained by dividing its vector with its norm (using `np.linalg.norm` to compute the norm). "
   ]
  },
  {
   "cell_type": "markdown",
   "metadata": {},
   "source": [
    "Now since $\\boldsymbol{P}$ lies on the first line, its coordinates are of the form $\\boldsymbol{M} + \\lambda \\boldsymbol{t}$ for some $\\lambda$. \n",
    "\n",
    "Therfore, $\\boldsymbol{Q}$ must be of the form:\n",
    "\n",
    "$$\n",
    "\\boldsymbol{M} + \\lambda \\boldsymbol{t} + d \\boldsymbol{\\hat{n}}\n",
    "$$\n",
    "\n",
    "But $\\boldsymbol{Q}$ also lies on the second line. This gives:\n",
    "\n",
    "$$\n",
    "\\boldsymbol{M} + \\lambda \\boldsymbol{t} + d \\boldsymbol{\\hat{n}} = \\boldsymbol{N} + \\mu \\boldsymbol{s}\n",
    "$$\n",
    "\n",
    "Taking the dot product with $\\boldsymbol{\\hat{n}}$ for both sides, noting that $\\boldsymbol{\\hat{n}} \\cdot \\boldsymbol{t} = \\boldsymbol{\\hat{n}} \\cdot \\boldsymbol{s} = \\boldsymbol{0}$, gives us:\n",
    "\n",
    "$$\n",
    "\\boldsymbol{d} = (\\boldsymbol{N} - \\boldsymbol{M}) \\cdot \\boldsymbol{\\hat{n}}\n",
    "$$"
   ]
  },
  {
   "cell_type": "code",
   "execution_count": 5,
   "metadata": {},
   "outputs": [
    {
     "name": "stdout",
     "output_type": "stream",
     "text": [
      "Distance between lines at nearest point: 0.8164965809277261\n"
     ]
    }
   ],
   "source": [
    "# Normal vector perpendicular to both lines\n",
    "n = np.cross(t, s)\n",
    "n = n/np.linalg.norm(n)\n",
    "\n",
    "# Compute the distance at the nearest point\n",
    "d = (N - M).dot(n)\n",
    "print(\"Distance between lines at nearest point: {}\".format(d))"
   ]
  },
  {
   "cell_type": "markdown",
   "metadata": {},
   "source": [
    "To plot the lines using the pyplot we create a 3D plot. The 'camera view' can be changed to change the viewing angle."
   ]
  },
  {
   "cell_type": "code",
   "execution_count": 6,
   "metadata": {},
   "outputs": [
    {
     "ename": "AttributeError",
     "evalue": "'Axes3DSubplot' object has no attribute 'hold'",
     "output_type": "error",
     "traceback": [
      "\u001b[0;31m---------------------------------------------------------------------------\u001b[0m",
      "\u001b[0;31mAttributeError\u001b[0m                            Traceback (most recent call last)",
      "\u001b[0;32m<ipython-input-6-7d51434c8073>\u001b[0m in \u001b[0;36m<module>\u001b[0;34m\u001b[0m\n\u001b[1;32m      5\u001b[0m \u001b[0;31m# Plot r1\u001b[0m\u001b[0;34m\u001b[0m\u001b[0;34m\u001b[0m\u001b[0;34m\u001b[0m\u001b[0m\n\u001b[1;32m      6\u001b[0m \u001b[0max\u001b[0m\u001b[0;34m.\u001b[0m\u001b[0mplot\u001b[0m\u001b[0;34m(\u001b[0m\u001b[0mr1\u001b[0m\u001b[0;34m[\u001b[0m\u001b[0;36m0\u001b[0m\u001b[0;34m]\u001b[0m\u001b[0;34m,\u001b[0m \u001b[0mr1\u001b[0m\u001b[0;34m[\u001b[0m\u001b[0;36m1\u001b[0m\u001b[0;34m]\u001b[0m\u001b[0;34m,\u001b[0m \u001b[0mr1\u001b[0m\u001b[0;34m[\u001b[0m\u001b[0;36m2\u001b[0m\u001b[0;34m]\u001b[0m\u001b[0;34m,\u001b[0m \u001b[0;34m\"r-\"\u001b[0m\u001b[0;34m)\u001b[0m\u001b[0;34m\u001b[0m\u001b[0;34m\u001b[0m\u001b[0m\n\u001b[0;32m----> 7\u001b[0;31m \u001b[0max\u001b[0m\u001b[0;34m.\u001b[0m\u001b[0mhold\u001b[0m\u001b[0;34m(\u001b[0m\u001b[0;34m\"on\"\u001b[0m\u001b[0;34m)\u001b[0m\u001b[0;34m\u001b[0m\u001b[0;34m\u001b[0m\u001b[0m\n\u001b[0m\u001b[1;32m      8\u001b[0m \u001b[0;34m\u001b[0m\u001b[0m\n\u001b[1;32m      9\u001b[0m \u001b[0;31m# Plot r2\u001b[0m\u001b[0;34m\u001b[0m\u001b[0;34m\u001b[0m\u001b[0;34m\u001b[0m\u001b[0m\n",
      "\u001b[0;31mAttributeError\u001b[0m: 'Axes3DSubplot' object has no attribute 'hold'"
     ]
    },
    {
     "data": {
      "image/png": "[encoded data removed]",
      "text/plain": [
       "<Figure size 576x432 with 1 Axes>"
      ]
     },
     "metadata": {
      "needs_background": "light"
     },
     "output_type": "display_data"
    }
   ],
   "source": [
    "# Create 3D figure\n",
    "fig = plt.figure(figsize=(8, 6))\n",
    "ax = fig.gca(projection='3d')\n",
    "\n",
    "# Plot r1\n",
    "ax.plot(r1[0], r1[1], r1[2], \"r-\")\n",
    "ax.hold(\"on\")\n",
    "\n",
    "# Plot r2\n",
    "ax.plot(r2[0], r2[1], r2[2], \"b-\")\n",
    "\n",
    "# Add legend\n",
    "ax.legend(['$r_1$', '$r_2$'], loc='upper left')\n",
    "\n",
    "# Add plot title\n",
    "ax.set_title('Lines $r_1$ and $r_2$ in 3D')\n",
    "\n",
    "# Set axes limits to be sensible\n",
    "ax.set_xlim3d(min(r2[0]), max(r2[0]))\n",
    "ax.set_ylim3d(min(r2[1]), max(r2[1]))\n",
    "ax.set_zlim3d(min(r2[2]), max(r2[2]))\n",
    "\n",
    "# Add axes labels\n",
    "ax.set_xlabel('X axis')\n",
    "ax.set_ylabel('Y axis')\n",
    "ax.set_zlabel('Z axis')\n",
    "\n",
    "# Prevent axes labels being cut off\n",
    "plt.tight_layout()\n",
    "\n",
    "# Change angle and height of view\n",
    "ax.view_init(elev=10, azim=65)"
   ]
  },
  {
   "cell_type": "markdown",
   "metadata": {},
   "source": [
    "(ii) First we need to cast the problem into a system of linear equations which Python can understand:\n",
    "\n",
    "$$\n",
    "\\boldsymbol{M} + \\lambda \\boldsymbol{t} + d \\boldsymbol{\\hat{n}} = \\boldsymbol{N} + \\mu \\boldsymbol{s}\n",
    "$$\n",
    "\n",
    "Python can solve linear equations of the form:\n",
    "\n",
    "$$\n",
    "\\boldsymbol{A} \\boldsymbol{x} = \\boldsymbol{b},\n",
    "$$\n",
    "\n",
    "where $\\boldsymbol{A}$ is a matrix and $\\boldsymbol{x}$ and $\\boldsymbol{b}$ are vectors. From our linear equations, we can write:\n",
    "\n",
    "$$\n",
    "    \\lambda \\boldsymbol{t} - \\mu\\boldsymbol{s} + d \\boldsymbol{\\hat{n}} = \\boldsymbol{N} - \\boldsymbol{M} \n",
    "$$\n",
    "\n",
    "This gives:\n",
    "\n",
    "$$\n",
    "\\begin{aligned}\n",
    "    \\boldsymbol{A} &= \n",
    "    \\left[\n",
    "      \\begin{matrix}\n",
    "        | & | & | \\\\\n",
    "        \\boldsymbol{t}    & -\\boldsymbol{s} & \\boldsymbol{\\hat{n}}    \\\\\n",
    "        | & | & | \n",
    "      \\end{matrix}\n",
    "    \\right] \\\\\n",
    "    \\boldsymbol{b} &= \\boldsymbol{N} - \\boldsymbol{M} \\\\\n",
    "    \\boldsymbol{x} &= \\left( \\begin{matrix} \n",
    "                            \\lambda \\\\\n",
    "                            \\mu \\\\\n",
    "                            d\n",
    "                            \\end{matrix} \\right)\n",
    "\\end{aligned}\n",
    "$$"
   ]
  },
  {
   "cell_type": "markdown",
   "metadata": {},
   "source": [
    "To set up our matrix `A`, we need to stack our vectors `t`, `s`, and `n` column-wise. To do this, we use the command `np.column_stack`. "
   ]
  },
  {
   "cell_type": "code",
   "execution_count": null,
   "metadata": {},
   "outputs": [],
   "source": [
    "# Find points shortest distance apart\n",
    "# Set up system of linear equatiosn\n",
    "# P + lambda*t + d*n = Q + mu*s\n",
    "A = np.column_stack((t, -s, n))\n",
    "b = N - M"
   ]
  },
  {
   "cell_type": "markdown",
   "metadata": {},
   "source": [
    "We can now solve for `x` to find $\\lambda$, $\\mu$ and $d$. "
   ]
  },
  {
   "cell_type": "code",
   "execution_count": null,
   "metadata": {},
   "outputs": [],
   "source": [
    "# Solve Ax = b, where x = [lambda, mu, d]\n",
    "x = np.linalg.solve(A, b)"
   ]
  },
  {
   "cell_type": "markdown",
   "metadata": {},
   "source": [
    "To plot the results, we need to first find the two points that are closest."
   ]
  },
  {
   "cell_type": "code",
   "execution_count": null,
   "metadata": {},
   "outputs": [],
   "source": [
    "# Points on lines at shortest distance apart\n",
    "P = M + x[0]*t\n",
    "Q = N + x[1]*s"
   ]
  },
  {
   "cell_type": "markdown",
   "metadata": {},
   "source": [
    "For the perpendicular vector, `matplotlib` can draw a straight line in 3D if we provide its the coordinates of the starting and the ending point. We can get these two points by starting from one of the closest point, say `P`, and travelling along the perpendicular vector, `n`. The constant `2.0` here is chosen by inspection - students can alter the length of the normal line on the plot by increasing the constant. "
   ]
  },
  {
   "cell_type": "code",
   "execution_count": null,
   "metadata": {},
   "outputs": [],
   "source": [
    "# Two points on perpendicular vector\n",
    "# to illustrate its orientation\n",
    "D1 = P - 2.0*n\n",
    "D2 = P + 2.0*n"
   ]
  },
  {
   "cell_type": "markdown",
   "metadata": {},
   "source": [
    "Now we are ready to plot it the results in 3D. First, let us get the points on each line for plotting, using the same concept that was explained in (i)."
   ]
  },
  {
   "cell_type": "code",
   "execution_count": null,
   "metadata": {},
   "outputs": [],
   "source": [
    "# Create normalised vector along the first and second line\n",
    "t = t/np.linalg.norm(t)\n",
    "s = s/np.linalg.norm(s)\n",
    "\n",
    "# Create 3x2 matrix where each column is a point on the first line\n",
    "# which are close to P1\n",
    "r1_plot = np.array([P, P]).T + np.array([t, t]).T*lam\n",
    "\n",
    "# Create 3x2 matrix where each column is a point on the second line\n",
    "# which are close to Q1\n",
    "r2_plot = np.array([Q, Q]).T + np.array([s, s]).T*mu"
   ]
  },
  {
   "cell_type": "markdown",
   "metadata": {},
   "source": [
    "Then now, we are ready to plot the two lines and where they come the closest. "
   ]
  },
  {
   "cell_type": "code",
   "execution_count": null,
   "metadata": {},
   "outputs": [],
   "source": [
    "# Create 3D figure\n",
    "fig = plt.figure(figsize=(8, 6))\n",
    "ax = fig.gca(projection='3d')\n",
    "\n",
    "# Plot r1\n",
    "ax.plot(r1_plot[0], r1_plot[1], r1_plot[2], \"r-\", label='$r_1$')\n",
    "\n",
    "# Plot r2\n",
    "ax.plot(r2_plot[0], r2_plot[1], r2_plot[2], \"b-\", label='$r_2$')\n",
    "\n",
    "# Plot the normal vector\n",
    "ax.plot([D1[0], D2[0]], [D1[1], D2[1]], [D1[2], D2[2]], 'k-',\n",
    "        label='normal vector')\n",
    "\n",
    "# Plot the closest points\n",
    "ax.scatter(P[0], P[1], P[2], s=100, c='r')\n",
    "ax.scatter(Q[0], Q[1], Q[2], s=100, c='b')\n",
    "\n",
    "# Add legend\n",
    "ax.legend(loc='upper left')\n",
    "\n",
    "# Add axes labels\n",
    "ax.set_xlabel('X axis')\n",
    "ax.set_ylabel('Y axis')\n",
    "ax.set_zlabel('Z axis')\n",
    "\n",
    "# Prevents axes labels being cut off\n",
    "plt.tight_layout()\n",
    "\n",
    "# Change angle and height of view\n",
    "ax.view_init(elev=10, azim=65)\n",
    "\n",
    "# Reduce the number of ticks along the axis\n",
    "# Try commenting these lines out to see the effect\n",
    "plt.locator_params(axis='y', nbins=6)\n",
    "plt.locator_params(axis='z', nbins=6)"
   ]
  }
 ],
 "metadata": {
  "kernelspec": {
   "display_name": "Python 3",
   "language": "python",
   "name": "python3"
  },
  "language_info": {
   "codemirror_mode": {
    "name": "ipython",
    "version": 3
   },
   "file_extension": ".py",
   "mimetype": "text/x-python",
   "name": "python",
   "nbconvert_exporter": "python",
   "pygments_lexer": "ipython3",
   "version": "3.7.6"
  }
 },
 "nbformat": 4,
 "nbformat_minor": 4
}
