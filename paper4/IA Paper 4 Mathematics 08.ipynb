{
 "cells": [
  {
   "cell_type": "markdown",
   "metadata": {},
   "source": [
    "# IA Paper 4 - Mathematics - Examples paper 8"
   ]
  },
  {
   "cell_type": "markdown",
   "metadata": {},
   "source": [
    "## Question 1\n",
    "\n",
    "A train of digital pulses is periodic with period $2\\pi$ and has the form\n",
    "\n",
    "$$\n",
    "f(t) = \n",
    "\\begin{cases}\n",
    "    1 & \\text{if} \\  0 < t \\le T \\\\\n",
    "    0 & \\text{if} \\ T < t \\le 2 \\pi\n",
    "\\end{cases}\n",
    "$$\n",
    "\n",
    "Express $f(t)$ as a Fourier series, and evaluate the coefficients. During transmission by a long cable, high-frequency components of the signal are attenuated. Explain briefly how the Fourier series allows this low-pass filtering effect to be studied.\n",
    "\n",
    "Now consider a specific example of a cable that transmits perfectly all frequency components below 1 kHz but attenuates completely all frequency components above 1 kHz. The digital pulse train has period $2 \\pi$ ms and $T = \\pi$ ms. Use Python to plot the filtered signal.\n",
    "\n",
    "**Python Hint**\n",
    "\n",
    "When $T = \\pi$ ms, the digital pulse train is just a square wave and we can use the supplied code to study its Fourier series. Its fundamental frequency is $1000/(2\\pi) = 159$ Hz and its sixth harmonic is $159 \\times 6 = 955$ Hz. So the cable will pass the first six terms of the Fourier series and attenuate the rest. To view the filtered signal, we need only change the program to `num_terms = 6`. Try modifying the program to plot the Fourier series for other functions in this examples paper. For functions of period $2\\pi$, you need only change the expressions for `d`, `an` and `bn`. For other functions, you could just force the period to $2\\pi$, i.e. set $\\omega = 1$ in question 4, $L = \\pi$ in question 6 and $T = 2\\pi$ in Question 8."
   ]
  },
  {
   "cell_type": "markdown",
   "metadata": {},
   "source": [
    "### Solution"
   ]
  },
  {
   "cell_type": "markdown",
   "metadata": {},
   "source": [
    "We first import some basic packages, including `numpy` and `matplotlib`. "
   ]
  },
  {
   "cell_type": "code",
   "execution_count": 1,
   "metadata": {},
   "outputs": [],
   "source": [
    "# Import numpy and matplotlib\n",
    "import numpy as np\n",
    "import matplotlib.pyplot as plt\n",
    "\n",
    "%matplotlib inline"
   ]
  },
  {
   "cell_type": "markdown",
   "metadata": {},
   "source": [
    "The Fourier series for the square wave is:\n",
    "\n",
    "$$\n",
    "f(t) = \\frac{1}{2}a_0 + \\sum_{n=1}^{\\infty} a_n \\cos (n t) + \\sum_{n=1}^{\\infty} b_n \\sin (n t)\n",
    "$$\n",
    "\n",
    "with:\n",
    "\n",
    "\\begin{align}\n",
    "a_0 &= \\frac{T}{\\pi} \n",
    "\\\\[1ex]\n",
    "a_n &= \\frac{\\sin(n T)}{n \\pi} \n",
    "\\\\[1ex]\n",
    "b_n &= \\frac{1 - \\cos(n T)}{n \\pi}\n",
    "\\end{align}\n",
    "\n",
    "We now create some 'time' points in the interval $[-2 \\pi, 2 \\pi)$ at which to evaluate the Fourier series:"
   ]
  },
  {
   "cell_type": "code",
   "execution_count": 2,
   "metadata": {},
   "outputs": [],
   "source": [
    "# Generate array for t\n",
    "num_points = 200\n",
    "dt = 4*np.pi/(num_points)\n",
    "t = np.arange(-2*np.pi, 2*np.pi + dt, dt)"
   ]
  },
  {
   "cell_type": "markdown",
   "metadata": {},
   "source": [
    "Next, we approxinate the Fourier series using a finite number of terms in the series:"
   ]
  },
  {
   "cell_type": "code",
   "execution_count": 3,
   "metadata": {},
   "outputs": [],
   "source": [
    "# Initialise parameters T and a_0\n",
    "T = np.pi\n",
    "a_0 = T/np.pi\n",
    "\n",
    "# Set number of terms for Fourier series\n",
    "num_terms = 20\n",
    "f = 0.5*a_0*np.ones(len(t))\n",
    "\n",
    "# Calcualte the Fourier series of f(t)\n",
    "for n in range(1, num_terms):\n",
    "    a_n = (np.sin(n*T))/(n*np.pi)\n",
    "    b_n = (1 - np.cos(n*T))/(n*np.pi)\n",
    "    f += a_n * np.cos(n*t) + b_n*np.sin(n*t)"
   ]
  },
  {
   "cell_type": "markdown",
   "metadata": {},
   "source": [
    "Let's plot our results using 20 terms from the Fourier series for $f(t)$."
   ]
  },
  {
   "cell_type": "code",
   "execution_count": 4,
   "metadata": {},
   "outputs": [
    {
     "data": {
      "image/png": "[encoded data removed]",
      "text/plain": [
       "<Figure size 432x288 with 1 Axes>"
      ]
     },
     "metadata": {
      "needs_background": "light"
     },
     "output_type": "display_data"
    }
   ],
   "source": [
    "# Plot the Fourier function\n",
    "plt.plot(t, f)\n",
    "\n",
    "# Label axis\n",
    "plt.xlabel(\"t\")\n",
    "plt.ylabel(\"f(t)\")\n",
    "\n",
    "# Set axis limit\n",
    "plt.axis([t[0], t[-1], -0.5, 1.5]);"
   ]
  },
  {
   "cell_type": "markdown",
   "metadata": {},
   "source": [
    "We can create an interactive plot to explore the effect of $n$ on the approximation of $f(t)$. "
   ]
  },
  {
   "cell_type": "code",
   "execution_count": 5,
   "metadata": {},
   "outputs": [
    {
     "data": {
      "application/vnd.jupyter.widget-view+json": {
       "model_id": "9a6e3b1889514ef6961a33efe51e4688",
       "version_major": 2,
       "version_minor": 0
      },
      "text/plain": [
       "interactive(children=(IntSlider(value=10, description='num_terms', max=200), Output()), _dom_classes=('widget-…"
      ]
     },
     "metadata": {},
     "output_type": "display_data"
    }
   ],
   "source": [
    "# Let's make an interactive plot\n",
    "from ipywidgets import interact, IntSlider\n",
    "\n",
    "def plot_taylor_series(num_terms):\n",
    "    # Initialise f array\n",
    "    f = 0.5*a_0*np.ones(len(t))\n",
    "\n",
    "    # Calculate the Fourier series\n",
    "    for n in range(1, num_terms):\n",
    "        a_n = (np.sin(n*T))/(n*np.pi)\n",
    "        b_n = (1 - np.cos(n*T))/(n*np.pi)\n",
    "        f += a_n*np.cos(n*t) + b_n*np.sin(n*t)\n",
    "\n",
    "    # Plot the function\n",
    "    plt.plot(t, f)\n",
    "\n",
    "    # Label axis\n",
    "    plt.xlabel(\"t\")\n",
    "    plt.ylabel(\"f(t)\")\n",
    "\n",
    "    # Set axis limit\n",
    "    plt.axis([t[0], t[-1], -0.5, 1.5])\n",
    "\n",
    "interact(plot_taylor_series, num_terms=IntSlider(min=0, max=200, step=1, value=10));"
   ]
  }
 ],
 "metadata": {
  "kernelspec": {
   "display_name": "Python 3",
   "language": "python",
   "name": "python3"
  },
  "language_info": {
   "codemirror_mode": {
    "name": "ipython",
    "version": 3
   },
   "file_extension": ".py",
   "mimetype": "text/x-python",
   "name": "python",
   "nbconvert_exporter": "python",
   "pygments_lexer": "ipython3",
   "version": "3.7.6"
  },
  "widgets": {
   "state": {
    "f9a9357096064784907aeb72cbcecf68": {
     "views": [
      {
       "cell_index": 12
      }
     ]
    }
   },
   "version": "1.2.0"
  }
 },
 "nbformat": 4,
 "nbformat_minor": 4
}
