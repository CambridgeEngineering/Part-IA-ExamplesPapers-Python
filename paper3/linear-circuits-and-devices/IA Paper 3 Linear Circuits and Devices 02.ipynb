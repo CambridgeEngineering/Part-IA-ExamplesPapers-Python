{
 "cells": [
  {
   "cell_type": "markdown",
   "metadata": {},
   "source": [
    "# IA Paper 3 - Linear circuits - Examples paper 2"
   ]
  },
  {
   "cell_type": "markdown",
   "metadata": {},
   "source": [
    "Question 2 shows a graph of the $I - V$ characteristic of a diode. This curve is described by the Shockley diode equation:\n",
    "\n",
    "$$\n",
    "I = I_S \\left[ \\exp \\left( \\frac{V}{nV_T} \\right) - 1 \\right]\n",
    "$$\n",
    "\n",
    "where $I_S$ is the small reverse saturation saturation current, $V_T$ is the thermal voltage and $n$ is the ideality factor which typically ranges from 1 to 2. \n",
    "\n",
    "The thermal voltage is:\n",
    "\n",
    "$$\n",
    "V_T = \\frac{kT}{q}, \n",
    "$$\n",
    "\n",
    "with Boltzmann’s constant $k = 1.38 \\times 10^{-23}$ J/K and the electron charge $q = 1.6 \\times 10^{-19} $ C. At room temperature ($T = 300$ K) $V_T \\approx 26$ mV. For $V \\gg V_T$ the $ - 1$ in the equation can be neglected. For more information look up the Shockley diode equation. \n",
    "\n",
    "The reverse saturation saturation current can be approximated by:\n",
    "\n",
    "$$\n",
    "I_S = \\exp \\left( \\frac{-E_g}{nkT} \\right)\n",
    "$$\n",
    "\n",
    "where $E_g$ is the energy gap between the valence and conduction bands of the semi-conductor. \n",
    "\n",
    "1. Use Python to find values of the parameters $I_S$ and $n$ by fitting the above equations to the data of \n",
    "   the $I - V$ characteristic of the diode shown on the Examples paper. \n",
    "1. After having found $n$ ad $E_g$ one can also calculate the $I - V$ curve of the diode at other temperatures. \n",
    "   Write a Python program to do that. Note that $E_g$ is assumed to be temperature independent - which is valid \n",
    "   as long as $T$ does not vary too much. How does the temperature dependence of the $I - V$ curves change \n",
    "   if $I_S$ is assumed to temperature independent, e.g. fixed to the value at $T = 300$ K?"
   ]
  },
  {
   "cell_type": "markdown",
   "metadata": {
    "collapsed": true
   },
   "source": [
    "## Solution"
   ]
  },
  {
   "cell_type": "markdown",
   "metadata": {},
   "source": [
    "We import the modules `matplotlib` and `numpy`."
   ]
  },
  {
   "cell_type": "code",
   "execution_count": 1,
   "metadata": {
    "collapsed": true
   },
   "outputs": [],
   "source": [
    "import matplotlib.pyplot as plt\n",
    "import numpy as np\n",
    "\n",
    "%matplotlib inline"
   ]
  },
  {
   "cell_type": "markdown",
   "metadata": {},
   "source": [
    "First, we read the diode current off the graph for, e.g., $V = 0.5, 0.55, 0.575, 0.60, 0.625$ V, etc. Using a text editor we can save the diode voltage and diode current as two columns and save the data in a separate values file.  These values are consequently read into Python `numpy` array as followed:"
   ]
  },
  {
   "cell_type": "code",
   "execution_count": 2,
   "metadata": {
    "collapsed": false
   },
   "outputs": [],
   "source": [
    "# Read in data from file from the Internet\n",
    "import urllib.request\n",
    "url = \"https://raw.githubusercontent.com/CambridgeEngineering/Part-IA-ExamplesPapers-Python/master/paper3/linear-circuits-and-devices/diode_data.dat\"\n",
    "response = urllib.request.urlopen(url)\n",
    "data = np.loadtxt(response)\n",
    "\n",
    "# Store input data into \n",
    "V_data = data[:, 0]       # Voltage in V\n",
    "I_data = data[:, 1]*1e-3  # Current in A"
   ]
  },
  {
   "cell_type": "markdown",
   "metadata": {},
   "source": [
    "We can proceed to plot the data."
   ]
  },
  {
   "cell_type": "markdown",
   "metadata": {},
   "source": [
    "As given in the question, for $V \\gg V_T$ the diode current is approximated by:\n",
    "\n",
    "$$\n",
    "I \\approx I_S \\exp \\left( \\frac{V}{nV_T} \\right)\n",
    "$$\n",
    "\n",
    "Taking natural log of both sides, and using $V_T = kT/q$ give us:\n",
    "\n",
    "$$\n",
    "\\ln I \\approx \\ln I_S + \\frac{q}{n kT}V\n",
    "$$\n",
    "\n",
    "Hence, we can fit a 1D line to our input data - of `v_data` and natural log of `i_data`. This gives us the intersection, which is $\\ln I_S$, and the slope, which is $V/(nV_T)$. Obtaining these coefficient will help us calculating the value of $I_S$ and $n$.\n",
    "\n",
    "Let's first define some constant for the problem. "
   ]
  },
  {
   "cell_type": "code",
   "execution_count": 3,
   "metadata": {
    "collapsed": true
   },
   "outputs": [],
   "source": [
    "# Constant definition\n",
    "k = 1.38e-23     # Boltzmann constant in J/K\n",
    "q = 1.602e-19    # electron charge in C\n",
    "T = 300          # Temperature in Kelvin"
   ]
  },
  {
   "cell_type": "markdown",
   "metadata": {},
   "source": [
    "To fit a 1D line to data points, `numpy` provides the function `polyfit`. More references on how the function is used can be found [here](http://docs.scipy.org/doc/numpy/reference/generated/numpy.polyfit.html). A function of the form $y = ax + b$ is fitted to the data by the following: "
   ]
  },
  {
   "cell_type": "code",
   "execution_count": 4,
   "metadata": {
    "collapsed": false
   },
   "outputs": [
    {
     "name": "stdout",
     "output_type": "stream",
     "text": [
      "[ 35.83075096 -27.25425996]\n"
     ]
    }
   ],
   "source": [
    "# Fit a straight line to v_data and ln(i_data (using http://docs.scipy.org/doc/numpy/reference/generated/numpy.polyfit.html)\n",
    "fp = np.polyfit(V_data, np.log(I_data), 1)\n",
    "print(fp)"
   ]
  },
  {
   "cell_type": "markdown",
   "metadata": {},
   "source": [
    "To visualise this straight line, we need to convert the coefficient in `fp` into a function that calculate the $y$-value of the fitted line given its $x$-value using the `numpy` function `poly1d`. We call these fitted values for voltage and current `V_Fit` and `I_Fit` respectively."
   ]
  },
  {
   "cell_type": "code",
   "execution_count": 5,
   "metadata": {
    "collapsed": false
   },
   "outputs": [],
   "source": [
    "# Get the function from the polynomial\n",
    "p = np.poly1d(fp)\n",
    "\n",
    "# Create a fitted value for voltage and current of diode\n",
    "V_fit = np.linspace(0.4, 0.7, 200)\n",
    "I_fit = np.exp(p(V_fit))"
   ]
  },
  {
   "cell_type": "code",
   "execution_count": 6,
   "metadata": {
    "collapsed": false
   },
   "outputs": [
    {
     "data": {
      "image/png": "[encoded data removed]",
      "text/plain": [
       "<matplotlib.figure.Figure at 0x7f6fbc40d198>"
      ]
     },
     "metadata": {},
     "output_type": "display_data"
    }
   ],
   "source": [
    "# Plot the input data\n",
    "plt.scatter(V_data, np.log(I_data), label='Input data')\n",
    "\n",
    "# Plot the fitted value\n",
    "plt.plot(V_fit, np.log(I_fit), label='Fitted line')\n",
    "\n",
    "# Add axis label and title\n",
    "plt.ylabel('Natural log of current (A)')\n",
    "plt.xlabel('Votalge (V)')\n",
    "plt.title('Input data of the diode')\n",
    "plt.legend(loc=2);"
   ]
  },
  {
   "cell_type": "markdown",
   "metadata": {},
   "source": [
    "The fit parameters $a$ - the slope - and $b$ - the intersection - are stored in the first and second element of `fp`. We can use these values to calculate our $I_S$, $n$ and eventually $E_g$."
   ]
  },
  {
   "cell_type": "code",
   "execution_count": 7,
   "metadata": {
    "collapsed": false
   },
   "outputs": [
    {
     "name": "stdout",
     "output_type": "stream",
     "text": [
      "The ideality factor: n = 1.0799564936036945\n",
      "The reverse saturation current: I_S = 1.4575561462448035e-12 A\n",
      "The band gap energy: E_g = 0.7606388150437194 eV\n"
     ]
    }
   ],
   "source": [
    "# Calculate value of I_S and n\n",
    "n = q/(k*T*fp[0])    # The ideality factor\n",
    "I_S = np.exp(fp[1])  # The reverse saturation current, in A\n",
    "\n",
    "# Then the band gap energy, in eV\n",
    "E_g = -np.log(I_S)*n*k*T/q\n",
    "\n",
    "# View these values\n",
    "print('The ideality factor: n = {}'.format(n))\n",
    "print('The reverse saturation current: I_S = {} A'.format(I_S))\n",
    "print('The band gap energy: E_g = {} eV'.format(E_g))"
   ]
  },
  {
   "cell_type": "markdown",
   "metadata": {},
   "source": [
    "We can compare our fitted values with the Shockley diiode equation. Let's calculate our value of the diode's current using this equation first."
   ]
  },
  {
   "cell_type": "code",
   "execution_count": 8,
   "metadata": {
    "collapsed": false
   },
   "outputs": [],
   "source": [
    "# calvualte thermal voltage\n",
    "V_T = k*T/q    # in V\n",
    "\n",
    "# Calcualte the current using the Shockley diode equation\n",
    "I_300 = I_S*(np.exp(V_fit/(n*V_T)) - 1)"
   ]
  },
  {
   "cell_type": "markdown",
   "metadata": {},
   "source": [
    "Now we can plot these values on the same figure for comparison."
   ]
  },
  {
   "cell_type": "code",
   "execution_count": 9,
   "metadata": {
    "collapsed": false
   },
   "outputs": [
    {
     "data": {
      "image/png": "[encoded data removed]",
      "text/plain": [
       "<matplotlib.figure.Figure at 0x7f6fb9b155f8>"
      ]
     },
     "metadata": {},
     "output_type": "display_data"
    }
   ],
   "source": [
    "# Plot the input data on a linear scale\n",
    "plt.scatter(V_data, I_data*1e3, label='Input data')\n",
    "# Now plot our fitted value\n",
    "plt.plot(V_fit, I_fit*1e3, label='Fitted value')\n",
    "# And using Shockley diode equation\n",
    "plt.plot(V_fit, I_300*1e3, '--r', label='Shockley equation')\n",
    "\n",
    "# Set axis limit to match the graph on the example paper\n",
    "plt.axis([0.4, 0.7, 0, 8])\n",
    "\n",
    "# Label axis and graph title\n",
    "plt.xlabel('Voltage (V)')\n",
    "plt.ylabel('Current (mA)')\n",
    "plt.title('Diode I-V curve')\n",
    "plt.legend(loc=2);"
   ]
  },
  {
   "cell_type": "markdown",
   "metadata": {},
   "source": [
    "The graph proves that our assumption provides a good approximation for the voltage-current curve of the Shockley diode. \n",
    "\n",
    "Having found $I_S$, $n$ and $E_g$, we can also calculate the $I - V$ curve of the diode at other temperatures. Note that here $E_g$ is assumed to be temperature independent, which is valid *as long as* $T$ does not vary too much. Additionally, $I_S$ is also assumed to be temperature independent. \n",
    "\n",
    "For convenient, we define a function to calculate the diode's saturation current $I_S$ using our approximation:"
   ]
  },
  {
   "cell_type": "code",
   "execution_count": 10,
   "metadata": {
    "collapsed": true
   },
   "outputs": [],
   "source": [
    "def diode_saturation_current(T):\n",
    "    \"Calculate Shockley diode saturation current\"\n",
    "    return np.exp(-E_g*q/(n*k*T))"
   ]
  },
  {
   "cell_type": "markdown",
   "metadata": {},
   "source": [
    "And another function to compute the $I-V$ curve using the Shockley diode equation:"
   ]
  },
  {
   "cell_type": "code",
   "execution_count": 11,
   "metadata": {
    "collapsed": true
   },
   "outputs": [],
   "source": [
    "def shockley_diode(v, T):\n",
    "    \"Calculate diode's current using Shockley equation\"\n",
    "    v_T = k*T/q\n",
    "    return I_S*(np.exp(v/(n*v_T)) - 1)"
   ]
  },
  {
   "cell_type": "markdown",
   "metadata": {},
   "source": [
    "We may need to check if our approximated curve is still good at different temperature:"
   ]
  },
  {
   "cell_type": "code",
   "execution_count": 12,
   "metadata": {
    "collapsed": true
   },
   "outputs": [],
   "source": [
    "def shockley_diode_approximate(v, T):\n",
    "    \"Approximate diode's current using Shockley equation\"\n",
    "    v_T = k*T/q\n",
    "    return I_S*np.exp(v/(n*v_T))"
   ]
  },
  {
   "cell_type": "markdown",
   "metadata": {},
   "source": [
    "Now we can compute the $I-V$ curve at different temperature with ease:"
   ]
  },
  {
   "cell_type": "code",
   "execution_count": 13,
   "metadata": {
    "collapsed": false
   },
   "outputs": [],
   "source": [
    "# Compute the I-V curve for T = 330K\n",
    "T = 330\n",
    "I_S_330 = diode_saturation_current(330)\n",
    "I_330 = shockley_diode(V_fit, 330)\n",
    "I_330_approx = shockley_diode_approximate(V_fit, 330)\n",
    "\n",
    "# Compute the I-V curve for T = 270K\n",
    "T = 270\n",
    "I_S_270 = diode_saturation_current(270)\n",
    "I_270 = shockley_diode(V_fit, 270)\n",
    "I_270_approx = shockley_diode_approximate(V_fit, 270)"
   ]
  },
  {
   "cell_type": "markdown",
   "metadata": {},
   "source": [
    "We can now plot these curves on the same graph for comparison. "
   ]
  },
  {
   "cell_type": "code",
   "execution_count": 14,
   "metadata": {
    "collapsed": false
   },
   "outputs": [
    {
     "data": {
      "image/png": "[encoded data removed]",
      "text/plain": [
       "<matplotlib.figure.Figure at 0x7f6fb9a362e8>"
      ]
     },
     "metadata": {},
     "output_type": "display_data"
    }
   ],
   "source": [
    "# Initilise figure\n",
    "fig = plt.figure(figsize=(12, 6))\n",
    "ax1 = plt.subplot(1, 2, 1)\n",
    "ax2 = plt.subplot(1, 2, 2)\n",
    "\n",
    "# Plot the I-V curve for T = 330K\n",
    "ax1.plot(V_fit, I_330*1e3, label='Shockley')\n",
    "ax1.plot(V_fit, I_330_approx*1e3, '--r', label='Approximate')\n",
    "ax1.set_xlabel('Voltage (V)')\n",
    "ax1.set_ylabel('Current (mA)')\n",
    "ax1.set_title('T = 330K')\n",
    "ax1.legend(loc=2);\n",
    "\n",
    "# Plot the I-V curve for T = 270K\n",
    "ax2.plot(V_fit, I_270*1e3, label='Shockley')\n",
    "ax2.plot(V_fit, I_270_approx*1e3, '--r', label='Approximate')\n",
    "ax2.set_xlabel('Voltage (V)')\n",
    "ax2.set_ylabel('Current (mA)')\n",
    "ax2.set_title('T = 270K')\n",
    "ax2.legend(loc=2);"
   ]
  },
  {
   "cell_type": "markdown",
   "metadata": {},
   "source": [
    "To fully learn the effect of changing the temperature, we can create a simple interactive widget below. First we need to import the `ipywidgets` module."
   ]
  },
  {
   "cell_type": "code",
   "execution_count": 15,
   "metadata": {
    "collapsed": true
   },
   "outputs": [],
   "source": [
    "from ipywidgets import interact, IntSlider"
   ]
  },
  {
   "cell_type": "markdown",
   "metadata": {},
   "source": [
    "We now create a function to plot the $I-V$ at a given temperature:"
   ]
  },
  {
   "cell_type": "code",
   "execution_count": 16,
   "metadata": {
    "collapsed": true
   },
   "outputs": [],
   "source": [
    "def plot_curve(T):\n",
    "    \"Function to plot the I-V curve\"\n",
    "    # Compute the I-V curve\n",
    "    I_S = diode_saturation_current(T)\n",
    "    I = shockley_diode(V_fit, T)\n",
    "    \n",
    "    # Plot the curve\n",
    "    plt.plot(V_fit, I*1e3, label='T={}K'.format(T))\n",
    "    \n",
    "    # Plot the reference curve for T=300\n",
    "    plt.plot(V_fit, I_300*1e3, label='T=300K')\n",
    "    \n",
    "    # Set axis limit to match the graph on the example paper\n",
    "    plt.axis([0.4, 0.7, 0, 8])\n",
    "    \n",
    "    # Label axis and title\n",
    "    plt.xlabel('Voltage (V)')\n",
    "    plt.ylabel('Current (mA)')\n",
    "    plt.title('Diode I-V curve')\n",
    "    plt.legend(loc=2)"
   ]
  },
  {
   "cell_type": "markdown",
   "metadata": {},
   "source": [
    "Now we can add the interactive widget by:"
   ]
  },
  {
   "cell_type": "code",
   "execution_count": 17,
   "metadata": {
    "collapsed": false
   },
   "outputs": [
    {
     "data": {
      "image/png": "[encoded data removed]",
      "text/plain": [
       "<matplotlib.figure.Figure at 0x7f6fb99962b0>"
      ]
     },
     "metadata": {},
     "output_type": "display_data"
    }
   ],
   "source": [
    "interact(plot_curve, T=IntSlider(min=200, max=400, step=1, value=330, description='Temperature'));"
   ]
  }
 ],
 "metadata": {
  "kernelspec": {
   "display_name": "Python 3",
   "language": "python",
   "name": "python3"
  },
  "language_info": {
   "codemirror_mode": {
    "name": "ipython",
    "version": 3
   },
   "file_extension": ".py",
   "mimetype": "text/x-python",
   "name": "python",
   "nbconvert_exporter": "python",
   "pygments_lexer": "ipython3",
   "version": "3.5.2"
  },
  "widgets": {
   "state": {
    "305b090adc2648dca9bef121862074f1": {
     "views": [
      {
       "cell_index": 36
      }
     ]
    }
   },
   "version": "1.2.0"
  }
 },
 "nbformat": 4,
 "nbformat_minor": 1
}
